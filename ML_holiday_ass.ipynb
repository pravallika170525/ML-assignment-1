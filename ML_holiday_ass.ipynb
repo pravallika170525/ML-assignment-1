{
  "nbformat": 4,
  "nbformat_minor": 0,
  "metadata": {
    "colab": {
      "provenance": []
    },
    "kernelspec": {
      "name": "python3",
      "display_name": "Python 3"
    },
    "language_info": {
      "name": "python"
    }
  },
  "cells": [
    {
      "cell_type": "code",
      "execution_count": 1,
      "metadata": {
        "colab": {
          "base_uri": "https://localhost:8080/"
        },
        "id": "Qxv_oZebIDc6",
        "outputId": "9b5c15e6-45cb-44a0-e3c3-38912c29151f"
      },
      "outputs": [
        {
          "output_type": "stream",
          "name": "stdout",
          "text": [
            "Original list: [10, None, 30, None, 50]\n",
            "List after replacing None with mean: [10, 30.0, 30, 30.0, 50]\n"
          ]
        }
      ],
      "source": [
        "def replace_missing_with_mean(numbers):\n",
        "    # Filter out None values to get the non-missing numbers\n",
        "    non_missing_numbers = [num for num in numbers if num is not None]\n",
        "    # Calculate the mean of non-missing numbers\n",
        "    mean_value = sum(non_missing_numbers) / len(non_missing_numbers)\n",
        "    # Replace None values with the mean\n",
        "    result = [mean_value if num is None else num for num in numbers]\n",
        "    return result\n",
        "#Input\n",
        "numbers = [10, None, 30, None, 50]\n",
        "output = replace_missing_with_mean(numbers)\n",
        "print(\"Original list:\", numbers)\n",
        "print(\"List after replacing None with mean:\", output)\n"
      ]
    },
    {
      "cell_type": "code",
      "source": [
        "def min_max_scaling(numbers):\n",
        "    # Find the minimum and maximum values in the list\n",
        "    min_val = min(numbers)\n",
        "    max_val = max(numbers)\n",
        "    # Apply Min-Max Scaling formula\n",
        "    scaled_numbers = [(x - min_val) / (max_val - min_val) for x in numbers]\n",
        "    return scaled_numbers\n",
        "# Input\n",
        "numbers = [20, 40, 60, 80, 100]\n",
        "scaled_output = min_max_scaling(numbers)\n",
        "print(\"Original list:\", numbers)\n",
        "print(\"Scaled list:\", scaled_output)\n"
      ],
      "metadata": {
        "colab": {
          "base_uri": "https://localhost:8080/"
        },
        "id": "oxhut_8NIiHF",
        "outputId": "96c4919d-851d-4712-d7cd-cb15835891bd"
      },
      "execution_count": 2,
      "outputs": [
        {
          "output_type": "stream",
          "name": "stdout",
          "text": [
            "Original list: [20, 40, 60, 80, 100]\n",
            "Scaled list: [0.0, 0.25, 0.5, 0.75, 1.0]\n"
          ]
        }
      ]
    },
    {
      "cell_type": "code",
      "source": [
        "def binarize(numbers, threshold):\n",
        "    # Apply binarization: 1 if number >= threshold, else 0\n",
        "    binary_list = [1 if x >= threshold else 0 for x in numbers]\n",
        "    return binary_list\n",
        "#Input\n",
        "numbers = [1.5, 2.3, 0.8, 3.0]\n",
        "threshold = 2.0\n",
        "binarized_output = binarize(numbers, threshold)\n",
        "print(\"Original list:\", numbers)\n",
        "print(\"Binarized list:\", binarized_output)\n"
      ],
      "metadata": {
        "colab": {
          "base_uri": "https://localhost:8080/"
        },
        "id": "n9qJOlyuI1a1",
        "outputId": "0dbe533b-15e2-4080-cb25-ff7ad0cbc04b"
      },
      "execution_count": 3,
      "outputs": [
        {
          "output_type": "stream",
          "name": "stdout",
          "text": [
            "Original list: [1.5, 2.3, 0.8, 3.0]\n",
            "Binarized list: [0, 1, 0, 1]\n"
          ]
        }
      ]
    },
    {
      "cell_type": "code",
      "source": [
        "def calculate_outputs(f, inputs):\n",
        "    # Calculate the outputs for the given inputs using the provided function\n",
        "    outputs = [f(x) for x in inputs]\n",
        "    return outputs\n",
        "# Define the function\n",
        "def f(x):\n",
        "    return 2 * x + 3\n",
        "# Input\n",
        "inputs = [1, 2, 3]\n",
        "outputs = calculate_outputs(f, inputs)\n",
        "print(\"Inputs:\", inputs)\n",
        "print(\"Outputs:\", outputs)\n"
      ],
      "metadata": {
        "colab": {
          "base_uri": "https://localhost:8080/"
        },
        "id": "xvmRC2qJJCHk",
        "outputId": "dcc7ae14-04ff-4411-d708-761f7c3dd117"
      },
      "execution_count": 4,
      "outputs": [
        {
          "output_type": "stream",
          "name": "stdout",
          "text": [
            "Inputs: [1, 2, 3]\n",
            "Outputs: [5, 7, 9]\n"
          ]
        }
      ]
    },
    {
      "cell_type": "code",
      "source": [
        "def standardize(numbers):\n",
        "    # Calculate the mean and standard deviation\n",
        "    mean = sum(numbers) / len(numbers)\n",
        "    variance = sum((x - mean) ** 2 for x in numbers) / len(numbers)\n",
        "    std_dev = variance ** 0.5\n",
        "    # Apply standardization formula\n",
        "    standardized_numbers = [(x - mean) / std_dev for x in numbers]\n",
        "    return standardized_numbers\n",
        "#Input\n",
        "numbers = [10, 20, 30, 40]\n",
        "standardized_output = standardize(numbers)\n",
        "print(\"Original list:\", numbers)\n",
        "print(\"Standardized list:\", standardized_output)\n"
      ],
      "metadata": {
        "colab": {
          "base_uri": "https://localhost:8080/"
        },
        "id": "qqRcsBRTJLHm",
        "outputId": "40de8281-44ea-4b1b-82e0-8a0f00b8e90c"
      },
      "execution_count": 5,
      "outputs": [
        {
          "output_type": "stream",
          "name": "stdout",
          "text": [
            "Original list: [10, 20, 30, 40]\n",
            "Standardized list: [-1.3416407864998738, -0.4472135954999579, 0.4472135954999579, 1.3416407864998738]\n"
          ]
        }
      ]
    },
    {
      "cell_type": "code",
      "source": [
        "def create_concept_representation(data, labels):\n",
        "    # Initialize an empty dictionary\n",
        "    concept_representation = {}\n",
        "    # Iterate through data points and their labels\n",
        "    for point, label in zip(data, labels):\n",
        "        # Add the point to the corresponding label's list in the dictionary\n",
        "        if label not in concept_representation:\n",
        "            concept_representation[label] = []\n",
        "        concept_representation[label].append(point)\n",
        "    return concept_representation\n",
        "#Input\n",
        "data = [1, 2, 3, 4, 5]\n",
        "labels = [\"A\", \"B\", \"A\", \"B\", \"A\"]\n",
        "# Generate the concept representation\n",
        "concept_representation = create_concept_representation(data, labels)\n",
        "print(\"Concept Representation:\", concept_representation)\n"
      ],
      "metadata": {
        "colab": {
          "base_uri": "https://localhost:8080/"
        },
        "id": "6MFvbJqVJUJG",
        "outputId": "9ba4aba1-1d36-4cd4-bb23-d443c73b95e9"
      },
      "execution_count": 6,
      "outputs": [
        {
          "output_type": "stream",
          "name": "stdout",
          "text": [
            "Concept Representation: {'A': [1, 3, 5], 'B': [2, 4]}\n"
          ]
        }
      ]
    },
    {
      "cell_type": "code",
      "source": [
        "def categorize_task(description):\n",
        "    # List of keywords indicating Supervised Learning tasks\n",
        "    supervised_keywords = [\"predict\", \"classification\", \"output\", \"labeled\", \"target\", \"price\", \"regression\"]\n",
        "    # Convert description to lowercase for easy matching\n",
        "    description_lower = description.lower()\n",
        "    # Check if any supervised learning keywords are in the description\n",
        "    if any(keyword in description_lower for keyword in supervised_keywords):\n",
        "        return \"Supervised Learning\"\n",
        "    else:\n",
        "        return \"Unsupervised Learning\"\n",
        "#Input\n",
        "description = \"Predict the price of a house based on features like size, location, and age.\"\n",
        "# Categorize the task\n",
        "category = categorize_task(description)\n",
        "print(\"Task Category:\", category)\n",
        "\n"
      ],
      "metadata": {
        "colab": {
          "base_uri": "https://localhost:8080/"
        },
        "id": "Uwos9pQeJeEr",
        "outputId": "088fefca-750f-43fd-c3ce-8b6b65e68b3d"
      },
      "execution_count": 7,
      "outputs": [
        {
          "output_type": "stream",
          "name": "stdout",
          "text": [
            "Task Category: Supervised Learning\n"
          ]
        }
      ]
    },
    {
      "cell_type": "code",
      "source": [
        "def categorize_task(description):\n",
        "    # List of keywords indicating Supervised Learning tasks\n",
        "    supervised_keywords = [\"predict\", \"classification\", \"output\", \"labeled\", \"target\", \"price\", \"regression\"]\n",
        "    # Convert description to lowercase for easy matching\n",
        "    description_lower = description.lower()\n",
        "    # Check if any supervised learning keywords are in the description\n",
        "    if any(keyword in description_lower for keyword in supervised_keywords):\n",
        "        return \"Supervised Learning\"\n",
        "    else:\n",
        "        return \"Unsupervised Learning\"\n",
        "#Input\n",
        "description = \"Group customers based on their purchasing patterns.\"\n",
        "# Categorize the task\n",
        "category = categorize_task(description)\n",
        "print(\"Task Category:\", category)\n"
      ],
      "metadata": {
        "colab": {
          "base_uri": "https://localhost:8080/"
        },
        "id": "ygKaio_TJq9W",
        "outputId": "efc342e8-ac8a-4e03-9b63-b30168d613b7"
      },
      "execution_count": 8,
      "outputs": [
        {
          "output_type": "stream",
          "name": "stdout",
          "text": [
            "Task Category: Unsupervised Learning\n"
          ]
        }
      ]
    },
    {
      "cell_type": "code",
      "source": [
        "def predict_y(m, c, x):\n",
        "    # Calculate the predicted y value using the formula y = mx + c\n",
        "    y = m * x + c\n",
        "    return y\n",
        "#Input\n",
        "m = 2.5  # Slope\n",
        "c = 3.0  # Intercept\n",
        "x = 4.0  # Input value\n",
        "# Calculate the predicted y\n",
        "y_predicted = predict_y(m, c, x)\n",
        "print(\"Predicted y:\", y_predicted)\n"
      ],
      "metadata": {
        "colab": {
          "base_uri": "https://localhost:8080/"
        },
        "id": "vcHGtbd0J0zV",
        "outputId": "9d16674c-e9aa-42a7-ae70-8a9cf1dd2775"
      },
      "execution_count": 9,
      "outputs": [
        {
          "output_type": "stream",
          "name": "stdout",
          "text": [
            "Predicted y: 13.0\n"
          ]
        }
      ]
    },
    {
      "cell_type": "code",
      "source": [],
      "metadata": {
        "id": "kK0W3O3lK-lf"
      },
      "execution_count": null,
      "outputs": []
    }
  ]
}